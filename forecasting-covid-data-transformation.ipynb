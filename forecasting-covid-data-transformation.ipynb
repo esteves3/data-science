{
 "cells": [
  {
   "cell_type": "code",
   "execution_count": null,
   "metadata": {},
   "outputs": [],
   "source": [
    "from numpy import arange\n",
    "from pandas import read_csv, DataFrame, Series\n",
    "from matplotlib.pyplot import figure, show, savefig\n",
    "from sklearn.linear_model import LinearRegression\n",
    "from dslabs_functions import plot_line_chart, HEIGHT, series_train_test_split, plot_forecasting_eval, plot_forecasting_series"
   ]
  },
  {
   "cell_type": "code",
   "execution_count": null,
   "metadata": {},
   "outputs": [],
   "source": [
    "file_tag = \"forecast_covid\"\n",
    "filename = \"datasets/forecast_covid_single.csv\"\n",
    "index = \"date\"\n",
    "target = \"deaths\"\n",
    "data: DataFrame = read_csv(\n",
    "    filename,\n",
    "    index_col=index,\n",
    "    sep=\",\",\n",
    "    decimal=\".\",\n",
    "    parse_dates=True,\n",
    "    infer_datetime_format=True,\n",
    ")\n",
    "series: Series = data[target]"
   ]
  },
  {
   "cell_type": "code",
   "execution_count": null,
   "metadata": {},
   "outputs": [],
   "source": [
    "figure(figsize=(3 * HEIGHT, HEIGHT / 2))\n",
    "plot_line_chart(\n",
    "    series.index.to_list(),\n",
    "    series.to_list(),\n",
    "    xlabel=series.index.name,\n",
    "    ylabel=target,\n",
    "    title=f\"{file_tag} weekly {target}\",\n",
    ")\n",
    "\n",
    "#dont uncomment this, its just an example of the savefig, since the teacher doesn't save the pics this time\n",
    "#savefig(f\"images/forecast/{file_tag}_data_transformation_aggregation_<whatever-you-doing-in-this-step>\", bbox_inches=\"tight\")\n",
    "show()"
   ]
  },
  {
   "cell_type": "markdown",
   "metadata": {},
   "source": [
    "# Aggregation"
   ]
  },
  {
   "cell_type": "code",
   "execution_count": null,
   "metadata": {},
   "outputs": [],
   "source": []
  },
  {
   "cell_type": "code",
   "execution_count": null,
   "metadata": {},
   "outputs": [],
   "source": [
    "train, test = series_train_test_split(data, trn_pct=0.90)\n",
    "\n",
    "trnX = arange(len(train)).reshape(-1, 1)\n",
    "trnY = train.to_numpy()\n",
    "tstX = arange(len(train), len(data)).reshape(-1, 1)\n",
    "tstY = test.to_numpy()\n",
    "\n",
    "model = LinearRegression()\n",
    "model.fit(trnX, trnY)\n",
    "\n",
    "prd_trn: Series = Series(model.predict(trnX), index=train.index)\n",
    "prd_tst: Series = Series(model.predict(tstX), index=test.index)\n",
    "\n",
    "plot_forecasting_eval(train, test, prd_trn, prd_tst, title=f\"{file_tag} aggregation - Linear Regression\")\n",
    "savefig(f\"images/{file_tag}_data_transformation_aggregation_linear_regression_eval.png\")"
   ]
  },
  {
   "cell_type": "code",
   "execution_count": null,
   "metadata": {},
   "outputs": [],
   "source": [
    "plot_forecasting_series(\n",
    "    train,\n",
    "    test,\n",
    "    prd_tst,\n",
    "    title=f\"{file_tag} aggregation - Linear Regression\",\n",
    "    xlabel=series.index.name,\n",
    "    ylabel=target,\n",
    ")\n",
    "savefig(f\"images/{file_tag}_data_transformation_aggregation_linear_regression_forecast.png\")"
   ]
  },
  {
   "cell_type": "markdown",
   "metadata": {},
   "source": [
    "## Selecting Best"
   ]
  },
  {
   "cell_type": "code",
   "execution_count": null,
   "metadata": {},
   "outputs": [],
   "source": [
    "data = best_aggregation"
   ]
  },
  {
   "cell_type": "markdown",
   "metadata": {},
   "source": [
    "# Smoothing"
   ]
  },
  {
   "cell_type": "code",
   "execution_count": null,
   "metadata": {},
   "outputs": [],
   "source": []
  },
  {
   "cell_type": "code",
   "execution_count": null,
   "metadata": {},
   "outputs": [],
   "source": [
    "train, test = series_train_test_split(data, trn_pct=0.90)\n",
    "\n",
    "trnX = arange(len(train)).reshape(-1, 1)\n",
    "trnY = train.to_numpy()\n",
    "tstX = arange(len(train), len(data)).reshape(-1, 1)\n",
    "tstY = test.to_numpy()\n",
    "\n",
    "model = LinearRegression()\n",
    "model.fit(trnX, trnY)\n",
    "\n",
    "prd_trn: Series = Series(model.predict(trnX), index=train.index)\n",
    "prd_tst: Series = Series(model.predict(tstX), index=test.index)\n",
    "\n",
    "plot_forecasting_eval(train, test, prd_trn, prd_tst, title=f\"{file_tag} aggregation - Linear Regression\")\n",
    "savefig(f\"images/{file_tag}_data_transformation_aggregation_linear_regression_eval.png\")"
   ]
  },
  {
   "cell_type": "code",
   "execution_count": null,
   "metadata": {},
   "outputs": [],
   "source": [
    "plot_forecasting_series(\n",
    "    train,\n",
    "    test,\n",
    "    prd_tst,\n",
    "    title=f\"{file_tag} aggregation - Linear Regression\",\n",
    "    xlabel=series.index.name,\n",
    "    ylabel=target,\n",
    ")\n",
    "savefig(f\"images/{file_tag}_data_transformation_aggregation_linear_regression_forecast.png\")"
   ]
  },
  {
   "cell_type": "markdown",
   "metadata": {},
   "source": [
    "## Selecting best"
   ]
  },
  {
   "cell_type": "markdown",
   "metadata": {},
   "source": [
    "# Differentiation"
   ]
  },
  {
   "cell_type": "code",
   "execution_count": null,
   "metadata": {},
   "outputs": [],
   "source": []
  },
  {
   "cell_type": "code",
   "execution_count": null,
   "metadata": {},
   "outputs": [],
   "source": [
    "train, test = series_train_test_split(data, trn_pct=0.90)\n",
    "\n",
    "trnX = arange(len(train)).reshape(-1, 1)\n",
    "trnY = train.to_numpy()\n",
    "tstX = arange(len(train), len(data)).reshape(-1, 1)\n",
    "tstY = test.to_numpy()\n",
    "\n",
    "model = LinearRegression()\n",
    "model.fit(trnX, trnY)\n",
    "\n",
    "prd_trn: Series = Series(model.predict(trnX), index=train.index)\n",
    "prd_tst: Series = Series(model.predict(tstX), index=test.index)\n",
    "\n",
    "plot_forecasting_eval(train, test, prd_trn, prd_tst, title=f\"{file_tag} aggregation - Linear Regression\")\n",
    "savefig(f\"images/{file_tag}_data_transformation_aggregation_linear_regression_eval.png\")"
   ]
  },
  {
   "cell_type": "code",
   "execution_count": null,
   "metadata": {},
   "outputs": [],
   "source": [
    "plot_forecasting_series(\n",
    "    train,\n",
    "    test,\n",
    "    prd_tst,\n",
    "    title=f\"{file_tag} aggregation - Linear Regression\",\n",
    "    xlabel=series.index.name,\n",
    "    ylabel=target,\n",
    ")\n",
    "savefig(f\"images/{file_tag}_data_transformation_aggregation_linear_regression_forecast.png\")"
   ]
  }
 ],
 "metadata": {
  "kernelspec": {
   "display_name": ".venv",
   "language": "python",
   "name": "python3"
  },
  "language_info": {
   "codemirror_mode": {
    "name": "ipython",
    "version": 3
   },
   "file_extension": ".py",
   "mimetype": "text/x-python",
   "name": "python",
   "nbconvert_exporter": "python",
   "pygments_lexer": "ipython3",
   "version": "3.10.11"
  }
 },
 "nbformat": 4,
 "nbformat_minor": 2
}
